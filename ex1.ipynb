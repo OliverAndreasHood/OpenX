{
 "cells": [
  {
   "cell_type": "code",
   "execution_count": 10,
   "metadata": {},
   "outputs": [],
   "source": [
    "il = [\n",
    "    'aaaa',\n",
    "    'aabaabb',\n",
    "    'abbcbbccaab',\n",
    "    'abaabaac',\n",
    "    'abcabcbb',\n",
    "    'acbcdsbcabccddbbbccbcaa']"
   ]
  },
  {
   "cell_type": "code",
   "execution_count": 7,
   "metadata": {},
   "outputs": [],
   "source": [
    "def sublongst(s: str):\n",
    "    o = ''\n",
    "    alpha = []\n",
    "    \n",
    "    if len(s) == 0:\n",
    "        return len(s)\n",
    "    else:\n",
    "        for i in s:\n",
    "        \n",
    "            \n"
   ]
  },
  {
   "cell_type": "code",
   "execution_count": null,
   "metadata": {},
   "outputs": [],
   "source": []
  },
  {
   "cell_type": "code",
   "execution_count": 8,
   "metadata": {},
   "outputs": [
    {
     "name": "stdout",
     "output_type": "stream",
     "text": [
      "123\n",
      "['abba']\n",
      "acbcdsbcabccddbbbccbcaa\n",
      "aaaa\n",
      "aabaabb\n",
      "abbcbbccaab\n",
      "abaabaac\n",
      "abcabcbb\n"
     ]
    }
   ],
   "source": [
    "for s in input_l:\n",
    "    sublongst(s)"
   ]
  },
  {
   "cell_type": "code",
   "execution_count": null,
   "metadata": {},
   "outputs": [],
   "source": []
  }
 ],
 "metadata": {
  "interpreter": {
   "hash": "52419087592ae86a302fb8bc89bebd7641e6c3be0510517a05dba91fab069ed2"
  },
  "kernelspec": {
   "display_name": "Python 3.9.7 ('base')",
   "language": "python",
   "name": "python3"
  },
  "language_info": {
   "codemirror_mode": {
    "name": "ipython",
    "version": 3
   },
   "file_extension": ".py",
   "mimetype": "text/x-python",
   "name": "python",
   "nbconvert_exporter": "python",
   "pygments_lexer": "ipython3",
   "version": "3.9.7"
  },
  "orig_nbformat": 4
 },
 "nbformat": 4,
 "nbformat_minor": 2
}

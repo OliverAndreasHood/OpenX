{
 "cells": [
  {
   "cell_type": "code",
   "execution_count": 2,
   "metadata": {},
   "outputs": [],
   "source": [
    "# Booking API testing\n",
    "## Create test-cases covering CRUD operations of booking.\n",
    "\n",
    "# C - Create\n",
    "# R - Read\n",
    "# U - Update\n",
    "# D - Delete\n",
    "\n",
    "import requests\n",
    "import json\n"
   ]
  },
  {
   "cell_type": "code",
   "execution_count": 127,
   "metadata": {},
   "outputs": [],
   "source": [
    "#BookingIDs\n",
    "def getIDs(i=0):\n",
    "    url = \"https://restful-booker.herokuapp.com/booking\"\n",
    "\n",
    "    response = requests.get(url)\n",
    "    json_response = json.loads(response.text)\n",
    "\n",
    "    assert response.status_code == 200\n",
    "    \n",
    "    return json_response[i:]\n",
    "\n",
    "#CreateBooking\n",
    "def createBook(json_file = None):\n",
    "    auth = (\"admin\",\"password123\")\n",
    "    url = \"https://restful-booker.herokuapp.com/booking\"\n",
    "\n",
    "    #Parse input file\n",
    "    if json_file != None:\n",
    "        f = open(json_file, \"r\")\n",
    "    else:\n",
    "        f = open(\"CreateBooking.json\", \"r\")\n",
    "        \n",
    "    json_in = f.read()\n",
    "    requests_json = json.loads(json_in)\n",
    "\n",
    "    #Request\n",
    "    response = requests.post(url, json=requests_json, auth=auth)\n",
    "    print(response.text, response.status_code)\n",
    "    print(response.json())\n",
    "    \n",
    "    assert response.status_code == 200\n",
    "\n",
    "    return response.json()\n",
    "\n",
    "#DeleteBooking\n",
    "def delBook(id): \n",
    "    auth = (\"admin\",\"password123\")\n",
    "    url = f\"https://restful-booker.herokuapp.com/booking/{id}\"\n",
    "\n",
    "    #Request\n",
    "    response = requests.delete(url, auth=auth)\n",
    "    print(response.text, response.status_code)\n",
    "\n",
    "    assert response.status_code == 201\n",
    "    \n",
    "    return\n",
    "\n",
    "\n"
   ]
  },
  {
   "cell_type": "code",
   "execution_count": 125,
   "metadata": {},
   "outputs": [
    {
     "data": {
      "text/plain": [
       "[{'bookingid': 3967},\n",
       " {'bookingid': 2023},\n",
       " {'bookingid': 3362},\n",
       " {'bookingid': 2419},\n",
       " {'bookingid': 1732},\n",
       " {'bookingid': 83},\n",
       " {'bookingid': 2897},\n",
       " {'bookingid': 995},\n",
       " {'bookingid': 1415},\n",
       " {'bookingid': 1936},\n",
       " {'bookingid': 2099},\n",
       " {'bookingid': 693},\n",
       " {'bookingid': 4133},\n",
       " {'bookingid': 1433},\n",
       " {'bookingid': 4238}]"
      ]
     },
     "execution_count": 125,
     "metadata": {},
     "output_type": "execute_result"
    }
   ],
   "source": [
    "getIDs(-15)\n"
   ]
  },
  {
   "cell_type": "code",
   "execution_count": 126,
   "metadata": {},
   "outputs": [
    {
     "name": "stdout",
     "output_type": "stream",
     "text": [
      "4034\n",
      "{\"bookingid\":4263,\"booking\":{\"firstname\":\"Three\",\"lastname\":\"Logic\",\"totalprice\":200,\"depositpaid\":true,\"bookingdates\":{\"checkin\":\"2023-01-01\",\"checkout\":\"2023-02-01\"},\"additionalneeds\":\"Breakfast\"}} 200\n",
      "{'bookingid': 4263, 'booking': {'firstname': 'Three', 'lastname': 'Logic', 'totalprice': 200, 'depositpaid': True, 'bookingdates': {'checkin': '2023-01-01', 'checkout': '2023-02-01'}, 'additionalneeds': 'Breakfast'}}\n",
      "4035\n",
      "Created 201\n",
      "4034\n"
     ]
    }
   ],
   "source": [
    "#Print current bookings amount\n",
    "print(len(getIDs()))\n",
    "\n",
    "#Create booking\n",
    "book = createBook()\n",
    "\n",
    "\n",
    "print(len(getIDs()))\n",
    "\n",
    "\n",
    "\n",
    "\n",
    "\n",
    "delBook(book.get(\"bookingid\"))\n",
    "\n",
    "print(len(getIDs()))\n"
   ]
  },
  {
   "cell_type": "code",
   "execution_count": null,
   "metadata": {},
   "outputs": [],
   "source": []
  }
 ],
 "metadata": {
  "interpreter": {
   "hash": "52419087592ae86a302fb8bc89bebd7641e6c3be0510517a05dba91fab069ed2"
  },
  "kernelspec": {
   "display_name": "Python 3.9.7 ('base')",
   "language": "python",
   "name": "python3"
  },
  "language_info": {
   "codemirror_mode": {
    "name": "ipython",
    "version": 3
   },
   "file_extension": ".py",
   "mimetype": "text/x-python",
   "name": "python",
   "nbconvert_exporter": "python",
   "pygments_lexer": "ipython3",
   "version": "3.9.7"
  },
  "orig_nbformat": 4
 },
 "nbformat": 4,
 "nbformat_minor": 2
}

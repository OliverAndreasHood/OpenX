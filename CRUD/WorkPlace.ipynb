{
 "cells": [
  {
   "cell_type": "markdown",
   "metadata": {},
   "source": [
    "{\n",
    "\"bookingid\":4238,\n",
    "\"booking\":{\n",
    "    \"firstname\":\"Three\",\n",
    "    \"lastname\":\"Logic\",\n",
    "    \"totalprice\":200,\n",
    "    \"depositpaid\":true,\n",
    "    \"bookingdates\":{\n",
    "        \"checkin\":\"2023-01-01\",\n",
    "        \"checkout\":\"2023-02-01\"},\n",
    "    \"additionalneeds\":\"Breakfast\"\n",
    "    }\n",
    "} "
   ]
  },
  {
   "cell_type": "code",
   "execution_count": null,
   "metadata": {},
   "outputs": [],
   "source": [
    "#UpdateBooking\n",
    "def updtBook(id): \n",
    "    auth = (\"admin\",\"password123\")\n",
    "    url = f\"https://restful-booker.herokuapp.com/booking/{id}\"\n",
    "\n",
    "    response = requests.put(url, data={}, auth=auth)\n",
    "    \n",
    "    \n",
    "    return"
   ]
  },
  {
   "cell_type": "code",
   "execution_count": 15,
   "metadata": {},
   "outputs": [
    {
     "name": "stdout",
     "output_type": "stream",
     "text": [
      "{\"firstname\":\"Three\",\"lastname\":\"Logic\",\"totalprice\":250,\"depositpaid\":true,\"bookingdates\":{\"checkin\":\"2023-01-01\",\"checkout\":\"2023-02-01\"},\"additionalneeds\":\"Breakfast and Dinner\"} 200\n"
     ]
    },
    {
     "data": {
      "text/plain": [
       "'{\"firstname\":\"Three\",\"lastname\":\"Logic\",\"totalprice\":250,\"depositpaid\":true,\"bookingdates\":{\"checkin\":\"2023-01-01\",\"checkout\":\"2023-02-01\"},\"additionalneeds\":\"Breakfast and Dinner\"}'"
      ]
     },
     "execution_count": 15,
     "metadata": {},
     "output_type": "execute_result"
    }
   ],
   "source": [
    "import requests\n",
    "import json\n",
    "\n",
    "\n",
    "id = \"51\"\n",
    "url = f\"https://restful-booker.herokuapp.com/booking/{id}\"\n",
    "auth = (\"admin\",\"password123\")\n",
    "\n",
    "f = open(\"UpdateBooking.json\", \"r\")\n",
    "json_in = f.read()\n",
    "requests_json = json.loads(json_in)\n",
    "\n",
    "response = requests.put(url, json=requests_json, auth=auth)\n",
    "\n",
    "print(response.text, response.status_code)\n"
   ]
  },
  {
   "cell_type": "code",
   "execution_count": null,
   "metadata": {},
   "outputs": [],
   "source": []
  }
 ],
 "metadata": {
  "interpreter": {
   "hash": "52419087592ae86a302fb8bc89bebd7641e6c3be0510517a05dba91fab069ed2"
  },
  "kernelspec": {
   "display_name": "Python 3.9.7 ('base')",
   "language": "python",
   "name": "python3"
  },
  "language_info": {
   "codemirror_mode": {
    "name": "ipython",
    "version": 3
   },
   "file_extension": ".py",
   "mimetype": "text/x-python",
   "name": "python",
   "nbconvert_exporter": "python",
   "pygments_lexer": "ipython3",
   "version": "3.9.7"
  },
  "orig_nbformat": 4
 },
 "nbformat": 4,
 "nbformat_minor": 2
}

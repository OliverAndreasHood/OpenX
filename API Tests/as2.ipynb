{
 "cells": [
  {
   "cell_type": "code",
   "execution_count": 2,
   "metadata": {},
   "outputs": [],
   "source": [
    "# Booking API testing\n",
    "## Create test-cases covering CRUD operations of booking.\n",
    "\n",
    "# C - Create\n",
    "# R - Read\n",
    "# U - Update\n",
    "# D - Delete\n",
    "\n",
    "import requests\n",
    "import json"
   ]
  },
  {
   "cell_type": "code",
   "execution_count": 1,
   "metadata": {},
   "outputs": [],
   "source": [
    "#BookingIDs\n",
    "def getIDs(i=0):\n",
    "    url = \"https://restful-booker.herokuapp.com/booking\"\n",
    "\n",
    "    response = requests.get(url)\n",
    "    json_response = json.loads(response.text)\n",
    "\n",
    "    assert response.status_code == 200\n",
    "    \n",
    "    return json_response[i:]\n",
    "\n",
    "#GetBooking\n",
    "def getBook(id:str()):\n",
    "    print('-------------- Get Booking --------------')\n",
    "    url = f\"https://restful-booker.herokuapp.com/booking/{id}\"\n",
    "\n",
    "    response = requests.get(url)\n",
    "    print(response.status_code)\n",
    "\n",
    "    try:\n",
    "        book = response.json()\n",
    "\n",
    "        assert response.status_code == 200\n",
    "        \n",
    "        print(book)\n",
    "        return book\n",
    "    except:\n",
    "        print(response.text)\n",
    "        return\n",
    "    \n",
    "#CreateBooking\n",
    "def createBook(json_file = None):\n",
    "    print('-------------- Create Booking --------------')\n",
    "    auth = (\"admin\",\"password123\")\n",
    "    url = \"https://restful-booker.herokuapp.com/booking\"\n",
    "\n",
    "    #Parse input file\n",
    "    if json_file != None:\n",
    "        f = open(json_file, \"r\")\n",
    "    else:\n",
    "        f = open(\"CreateBooking.json\", \"r\")\n",
    "        \n",
    "    json_in = f.read()\n",
    "    requests_json = json.loads(json_in)\n",
    "\n",
    "    #Request\n",
    "    response = requests.post(url, json=requests_json, auth=auth)\n",
    "    print(response.status_code)\n",
    "    print(response.json())\n",
    "    \n",
    "    assert response.status_code == 200\n",
    "\n",
    "    return response.json()\n",
    "\n",
    "#UpdateBooking\n",
    "def updtBook(id, json_file=None): \n",
    "    print('-------------- Update Booking --------------')\n",
    "    auth = (\"admin\",\"password123\")\n",
    "    url = f\"https://restful-booker.herokuapp.com/booking/{id}\"\n",
    "    \n",
    "    #Parse input file\n",
    "    if json_file != None:\n",
    "        f = open(json_file, \"r\")\n",
    "    else:\n",
    "        f = open(\"UpdateBooking.json\", \"r\")\n",
    "\n",
    "    json_in = f.read()\n",
    "    requests_json = json.loads(json_in)\n",
    "\n",
    "    #Request\n",
    "    response = requests.put(url, json=requests_json, auth=auth)\n",
    "    print(response.status_code)\n",
    "    print(response.json())\n",
    "\n",
    "    assert response.status_code == 200\n",
    "\n",
    "    return response.json()\n",
    "\n",
    "#DeleteBooking\n",
    "def delBook(id): \n",
    "    print('-------------- Delete Booking --------------')\n",
    "    auth = (\"admin\",\"password123\")\n",
    "    url = f\"https://restful-booker.herokuapp.com/booking/{id}\"\n",
    "\n",
    "    #Request\n",
    "    response = requests.delete(url, auth=auth)\n",
    "    print(response.status_code, response.text)\n",
    "\n",
    "    assert response.status_code == 201\n",
    "    \n",
    "    return\n"
   ]
  },
  {
   "cell_type": "code",
   "execution_count": 3,
   "metadata": {},
   "outputs": [
    {
     "data": {
      "text/plain": [
       "[{'bookingid': 54},\n",
       " {'bookingid': 95},\n",
       " {'bookingid': 103},\n",
       " {'bookingid': 116},\n",
       " {'bookingid': 111},\n",
       " {'bookingid': 96},\n",
       " {'bookingid': 55},\n",
       " {'bookingid': 21},\n",
       " {'bookingid': 85},\n",
       " {'bookingid': 79}]"
      ]
     },
     "execution_count": 3,
     "metadata": {},
     "output_type": "execute_result"
    }
   ],
   "source": [
    "getIDs(-10)\n"
   ]
  },
  {
   "cell_type": "code",
   "execution_count": 4,
   "metadata": {},
   "outputs": [
    {
     "name": "stdout",
     "output_type": "stream",
     "text": [
      "108\n",
      "-------------- Create Booking --------------\n",
      "200\n",
      "{'bookingid': 117, 'booking': {'firstname': 'Three', 'lastname': 'Logic', 'totalprice': 200, 'depositpaid': True, 'bookingdates': {'checkin': '2023-01-01', 'checkout': '2023-02-01'}, 'additionalneeds': 'Breakfast'}}\n",
      "109\n",
      "-------------- Get Booking --------------\n",
      "200\n",
      "{'firstname': 'Three', 'lastname': 'Logic', 'totalprice': 200, 'depositpaid': True, 'bookingdates': {'checkin': '2023-01-01', 'checkout': '2023-02-01'}, 'additionalneeds': 'Breakfast'}\n",
      "-------------- Update Booking --------------\n",
      "200\n",
      "{'firstname': 'Three', 'lastname': 'Logic', 'totalprice': 250, 'depositpaid': True, 'bookingdates': {'checkin': '2023-01-01', 'checkout': '2023-02-01'}, 'additionalneeds': 'Breakfast and Dinner'}\n",
      "-------------- Delete Booking --------------\n",
      "201 Created\n",
      "-------------- Get Booking --------------\n",
      "404\n",
      "Not Found\n",
      "108\n"
     ]
    }
   ],
   "source": [
    "#Print current bookings amount\n",
    "print(len(getIDs()))\n",
    "\n",
    "#Create booking\n",
    "book = createBook()\n",
    "id = book.get(\"bookingid\")\n",
    "\n",
    "#Print current bookings amount\n",
    "print(len(getIDs()))\n",
    "\n",
    "#Check new booking\n",
    "getBook(id)\n",
    "\n",
    "#Update whole booking\n",
    "updtBook(id)\n",
    "\n",
    "#Delete new booking\n",
    "delBook(id)\n",
    "\n",
    "#Check if deleted\n",
    "getBook(id)\n",
    "\n",
    "#Print current bookings amount\n",
    "print(len(getIDs()))\n"
   ]
  },
  {
   "cell_type": "code",
   "execution_count": null,
   "metadata": {},
   "outputs": [],
   "source": []
  }
 ],
 "metadata": {
  "interpreter": {
   "hash": "52419087592ae86a302fb8bc89bebd7641e6c3be0510517a05dba91fab069ed2"
  },
  "kernelspec": {
   "display_name": "Python 3.9.7 ('base')",
   "language": "python",
   "name": "python3"
  },
  "language_info": {
   "codemirror_mode": {
    "name": "ipython",
    "version": 3
   },
   "file_extension": ".py",
   "mimetype": "text/x-python",
   "name": "python",
   "nbconvert_exporter": "python",
   "pygments_lexer": "ipython3",
   "version": "3.9.7"
  },
  "orig_nbformat": 4
 },
 "nbformat": 4,
 "nbformat_minor": 2
}
